{
 "cells": [
  {
   "cell_type": "markdown",
   "metadata": {},
   "source": [
    "Heroes Of Pymoli Data Analysis\n",
    "Of the 1163 active players, the vast majority are male (84%). There also exists, a smaller, but notable proportion of female players (14%).\n",
    "\n",
    "Our peak age demographic falls between 20-24 (44.8%) with secondary groups falling between 15-19 (18.60%) and 25-29 (13.4%).\n",
    "\n",
    "Note\n",
    "Instructions have been included for each segment. You do not have to follow them exactly, but they are included to help you think through the steps."
   ],
   "execution_count": null,
   "outputs": []
  },
  {
   "cell_type": "code",
   "execution_count": 84,
   "metadata": {},
   "outputs": [],
   "source": [
    "# Dependencies and Setup\n",
    "import pandas as pd\n",
    "import numpy as np\n",
    "\n",
    "# File to Load\n",
    "file_to_load = \"Resources/purchase_data.csv\"\n",
    "\n",
    "# Read Purchasing File and store into Pandas data frame\n",
    "purchase_data = pd.read_csv(file_to_load)\n",
    ""
   ]
  },
  {
   "cell_type": "markdown",
   "metadata": {},
   "source": [
    "Player Count: Display the total number of players"
   ],
   "execution_count": null,
   "outputs": []
  },
  {
   "cell_type": "code",
   "execution_count": 85,
   "metadata": {},
   "outputs": [
    {
     "output_type": "execute_result",
     "data": {
      "text/plain": "   Total Players\n0            576",
      "text/html": "<div>\n<style scoped>\n    .dataframe tbody tr th:only-of-type {\n        vertical-align: middle;\n    }\n\n    .dataframe tbody tr th {\n        vertical-align: top;\n    }\n\n    .dataframe thead th {\n        text-align: right;\n    }\n</style>\n<table border=\"1\" class=\"dataframe\">\n  <thead>\n    <tr style=\"text-align: right;\">\n      <th></th>\n      <th>Total Players</th>\n    </tr>\n  </thead>\n  <tbody>\n    <tr>\n      <th>0</th>\n      <td>576</td>\n    </tr>\n  </tbody>\n</table>\n</div>"
     },
     "metadata": {},
     "execution_count": 85
    }
   ],
   "source": [
    "total_players_df = pd.DataFrame({'Total Players':[purchase_data[\"SN\"].nunique()]})\n",
    "total_players_df"
   ]
  },
  {
   "cell_type": "markdown",
   "metadata": {},
   "source": [
    "Purchasing Analysis (Total)\n",
    "\n",
    "Analyze the items purchased by showing\n",
    "\n",
    "- The number of unique items purchased\n",
    "- The average price paid for a purchased items\n",
    "- The total number of purchases made\n",
    "- The total revenue received from items sold"
   ],
   "execution_count": null,
   "outputs": []
  },
  {
   "cell_type": "code",
   "execution_count": 86,
   "metadata": {},
   "outputs": [
    {
     "output_type": "execute_result",
     "data": {
      "text/plain": "   Number of Unique Items  Average Price  Total Number of Purchases  \\\n0                     179       3.050987                        780   \n\n   Total Revenue  \n0        2379.77  ",
      "text/html": "<div>\n<style scoped>\n    .dataframe tbody tr th:only-of-type {\n        vertical-align: middle;\n    }\n\n    .dataframe tbody tr th {\n        vertical-align: top;\n    }\n\n    .dataframe thead th {\n        text-align: right;\n    }\n</style>\n<table border=\"1\" class=\"dataframe\">\n  <thead>\n    <tr style=\"text-align: right;\">\n      <th></th>\n      <th>Number of Unique Items</th>\n      <th>Average Price</th>\n      <th>Total Number of Purchases</th>\n      <th>Total Revenue</th>\n    </tr>\n  </thead>\n  <tbody>\n    <tr>\n      <th>0</th>\n      <td>179</td>\n      <td>3.050987</td>\n      <td>780</td>\n      <td>2379.77</td>\n    </tr>\n  </tbody>\n</table>\n</div>"
     },
     "metadata": {},
     "execution_count": 86
    }
   ],
   "source": [
    "purch_analysis_tot_df = pd.DataFrame({\"Number of Unique Items\":[purchase_data[\"Item Name\"].nunique()],\n",
    "            \"Average Price\":[purchase_data[\"Price\"].mean()],\n",
    "            \"Total Number of Purchases\":[purchase_data[\"Purchase ID\"].nunique()],\n",
    "            \"Total Revenue\":[purchase_data[\"Price\"].sum()]\n",
    "           })\n",
    "purch_analysis_tot_df"
   ]
  },
  {
   "cell_type": "markdown",
   "metadata": {},
   "source": [
    "Gender Demographics\n",
    "\n",
    "Analyze the gender demographics of the players by showing:\n",
    "- Number of players by gender\n",
    "- Percentage of players by gender"
   ],
   "execution_count": null,
   "outputs": []
  },
  {
   "cell_type": "code",
   "execution_count": 87,
   "metadata": {},
   "outputs": [
    {
     "output_type": "execute_result",
     "data": {
      "text/plain": "                       Total Count  Percentage of Players\nMale                           484               0.840278\nFemale                          81               0.140625\nOther / Non-Disclosed           11               0.019097",
      "text/html": "<div>\n<style scoped>\n    .dataframe tbody tr th:only-of-type {\n        vertical-align: middle;\n    }\n\n    .dataframe tbody tr th {\n        vertical-align: top;\n    }\n\n    .dataframe thead th {\n        text-align: right;\n    }\n</style>\n<table border=\"1\" class=\"dataframe\">\n  <thead>\n    <tr style=\"text-align: right;\">\n      <th></th>\n      <th>Total Count</th>\n      <th>Percentage of Players</th>\n    </tr>\n  </thead>\n  <tbody>\n    <tr>\n      <th>Male</th>\n      <td>484</td>\n      <td>0.840278</td>\n    </tr>\n    <tr>\n      <th>Female</th>\n      <td>81</td>\n      <td>0.140625</td>\n    </tr>\n    <tr>\n      <th>Other / Non-Disclosed</th>\n      <td>11</td>\n      <td>0.019097</td>\n    </tr>\n  </tbody>\n</table>\n</div>"
     },
     "metadata": {},
     "execution_count": 87
    }
   ],
   "source": [
    "#Create a df grouped by User ID to eliminate duplicate purchases for same User\n",
    "user_grouped_purch_data = purchase_data.groupby([\"SN\"])\n",
    "\n",
    "#Grab the first line of each User ID grouping in order to create a df where each line is a unique user\n",
    "first_user_occurance = user_grouped_purch_data.first()\n",
    "\n",
    "#Create a df column of counts by gender for the unique user df\n",
    "gender_demog_df = pd.DataFrame(first_user_occurance[\"Gender\"].value_counts())\n",
    "\n",
    "#Add a df column to hold the calc of percentage of players in each gender\n",
    "gender_demog_df[\"Percentage of Players\"]=gender_demog_df[\"Gender\"]/gender_demog_df[\"Gender\"].sum()\n",
    "\n",
    "#Rename the Gender column to Total Count\n",
    "gender_demog_df.rename(columns = {'Gender':'Total Count'}, inplace=True)\n",
    "\n",
    "gender_demog_df\n",
    "\n",
    "#STILL NEED TO FORMAT!!"
   ]
  },
  {
   "cell_type": "markdown",
   "metadata": {},
   "source": [
    "Purchasing Analysis (GENDER)\n",
    "\n",
    "Analyze the player purchases made by gender by showing:\n",
    "\n",
    "- Number of purchases by gender\n",
    "- Average price of a purchase by gender\n",
    "- Total value of purchases by gender\n",
    "- Average total purchase per person by gender "
   ],
   "execution_count": null,
   "outputs": []
  },
  {
   "cell_type": "code",
   "execution_count": 88,
   "metadata": {},
   "outputs": [
    {
     "output_type": "execute_result",
     "data": {
      "text/plain": "                       Purchase Count  Average Purchase Price  \\\nGender                                                          \nFemale                            113                3.203009   \nMale                              652                3.017853   \nOther / Non-Disclosed              15                3.346000   \n\n                       Total Purchase Value  Avg Total Purchase per Person  \nGender                                                                      \nFemale                               361.94                       4.468395  \nMale                                1967.64                       4.065372  \nOther / Non-Disclosed                 50.19                       4.562727  ",
      "text/html": "<div>\n<style scoped>\n    .dataframe tbody tr th:only-of-type {\n        vertical-align: middle;\n    }\n\n    .dataframe tbody tr th {\n        vertical-align: top;\n    }\n\n    .dataframe thead th {\n        text-align: right;\n    }\n</style>\n<table border=\"1\" class=\"dataframe\">\n  <thead>\n    <tr style=\"text-align: right;\">\n      <th></th>\n      <th>Purchase Count</th>\n      <th>Average Purchase Price</th>\n      <th>Total Purchase Value</th>\n      <th>Avg Total Purchase per Person</th>\n    </tr>\n    <tr>\n      <th>Gender</th>\n      <th></th>\n      <th></th>\n      <th></th>\n      <th></th>\n    </tr>\n  </thead>\n  <tbody>\n    <tr>\n      <th>Female</th>\n      <td>113</td>\n      <td>3.203009</td>\n      <td>361.94</td>\n      <td>4.468395</td>\n    </tr>\n    <tr>\n      <th>Male</th>\n      <td>652</td>\n      <td>3.017853</td>\n      <td>1967.64</td>\n      <td>4.065372</td>\n    </tr>\n    <tr>\n      <th>Other / Non-Disclosed</th>\n      <td>15</td>\n      <td>3.346000</td>\n      <td>50.19</td>\n      <td>4.562727</td>\n    </tr>\n  </tbody>\n</table>\n</div>"
     },
     "metadata": {},
     "execution_count": 88
    }
   ],
   "source": [
    "#Create a df grouped by Gender\n",
    "gender_grouped_purch_data = purchase_data.groupby([\"Gender\"])\n",
    "\n",
    "#Count the purchases by Gender\n",
    "purch_by_gender = pd.DataFrame(gender_grouped_purch_data[\"Purchase ID\"].count())\n",
    "\n",
    "#Calc the average purchase price by Gender\n",
    "avg_purch_price_by_gender = pd.DataFrame(gender_grouped_purch_data[\"Price\"].sum()/gender_grouped_purch_data[\"Purchase ID\"].count())\n",
    "\n",
    "#Calc the total value of purchases by gender\n",
    "tot_purch_value_by_gender = pd.DataFrame(gender_grouped_purch_data[\"Price\"].sum())\n",
    "\n",
    "#Calc the average purchase per person by Gender\n",
    "avg_purch_price_by_gender_per_person = pd.DataFrame(gender_grouped_purch_data[\"Price\"].sum()/gender_grouped_purch_data[\"SN\"].nunique())\n",
    "\n",
    "#Clean up column headings\n",
    "purch_by_gender.columns=[\"Purchase Count\"]\n",
    "avg_purch_price_by_gender.columns=[\"Average Purchase Price\"]\n",
    "tot_purch_value_by_gender.columns=[\"Total Purchase Value\"]\n",
    "avg_purch_price_by_gender_per_person.columns=[\"Avg Total Purchase per Person\"]\n",
    "\n",
    "#Merge into one dataframe\n",
    "purch_analysis_gender_temp1 = pd.merge(purch_by_gender, avg_purch_price_by_gender, on='Gender')\n",
    "purch_analysis_gender_temp2 = pd.merge(purch_analysis_gender_temp1, tot_purch_value_by_gender, on='Gender')\n",
    "purch_analysis_gender_final = pd.merge(purch_analysis_gender_temp2, avg_purch_price_by_gender_per_person, on='Gender')\n",
    "\n",
    "purch_analysis_gender_final\n",
    "\n",
    "#STILL NEED TO FORMAT!!"
   ]
  },
  {
   "cell_type": "markdown",
   "metadata": {},
   "source": [
    "Age Demographics\n",
    "\n",
    "Analyze the age demographics of players by showing:\n",
    "\n",
    "- Number of players in each 5 year age band\n",
    "- Percentage of players in each 5 year age band"
   ],
   "execution_count": null,
   "outputs": []
  },
  {
   "cell_type": "code",
   "execution_count": 89,
   "metadata": {},
   "outputs": [
    {
     "output_type": "execute_result",
     "data": {
      "text/plain": "       Total Count  Percentage of Players\n<10             17               0.029514\n10-14           22               0.038194\n15-19          107               0.185764\n20-24          258               0.447917\n25-29           77               0.133681\n30-34           52               0.090278\n35-39           31               0.053819\n40+             12               0.020833",
      "text/html": "<div>\n<style scoped>\n    .dataframe tbody tr th:only-of-type {\n        vertical-align: middle;\n    }\n\n    .dataframe tbody tr th {\n        vertical-align: top;\n    }\n\n    .dataframe thead th {\n        text-align: right;\n    }\n</style>\n<table border=\"1\" class=\"dataframe\">\n  <thead>\n    <tr style=\"text-align: right;\">\n      <th></th>\n      <th>Total Count</th>\n      <th>Percentage of Players</th>\n    </tr>\n  </thead>\n  <tbody>\n    <tr>\n      <th>&lt;10</th>\n      <td>17</td>\n      <td>0.029514</td>\n    </tr>\n    <tr>\n      <th>10-14</th>\n      <td>22</td>\n      <td>0.038194</td>\n    </tr>\n    <tr>\n      <th>15-19</th>\n      <td>107</td>\n      <td>0.185764</td>\n    </tr>\n    <tr>\n      <th>20-24</th>\n      <td>258</td>\n      <td>0.447917</td>\n    </tr>\n    <tr>\n      <th>25-29</th>\n      <td>77</td>\n      <td>0.133681</td>\n    </tr>\n    <tr>\n      <th>30-34</th>\n      <td>52</td>\n      <td>0.090278</td>\n    </tr>\n    <tr>\n      <th>35-39</th>\n      <td>31</td>\n      <td>0.053819</td>\n    </tr>\n    <tr>\n      <th>40+</th>\n      <td>12</td>\n      <td>0.020833</td>\n    </tr>\n  </tbody>\n</table>\n</div>"
     },
     "metadata": {},
     "execution_count": 89
    }
   ],
   "source": [
    "bins = [0,9,14,19,24,29,34,39,200]\n",
    "labels = [\"<10\", \"10-14\", \"15-19\", \"20-24\", \"25-29\", \"30-34\", \"35-39\", \"40+\"]\n",
    "purchase_data_bin_age = first_user_occurance\n",
    "purchase_data_bin_age[\"Age Bin\"] = pd.cut(purchase_data_bin_age[\"Age\"], bins=bins, labels=labels)\n",
    "\n",
    "#Create a df grouped by age bin\n",
    "purchase_data_grouped_by_bin = purchase_data_bin_age.groupby([\"Age Bin\"])\n",
    "\n",
    "# Calculate the numbers and percentages by age group\n",
    "bin_count = purchase_data_grouped_by_bin[\"Age Bin\"].count()\n",
    "tot_players_count = first_user_occurance.count()\n",
    "bin_pct = bin_count/tot_players_count[\"Age\"]\n",
    "\n",
    "# Create a summary data frame to hold the results\n",
    "age_demog_summary_df = pd.DataFrame(list(zip(bin_count_df, bin_pct_df)), index=labels, columns =['Total Count', 'Percentage of Players']) \n",
    "\n",
    "# Optional: round the percentage column to two decimal points\n",
    "# Display Age Demographics Table\n",
    "age_demog_summary_df\n",
    ""
   ]
  },
  {
   "cell_type": "markdown",
   "metadata": {},
   "source": [
    "Purchasing Analysis by Age\n",
    "\n",
    "Analyze the purchasing behavior of different age groups by showing:\n",
    "\n",
    "- Total number of purchases by age groups\n",
    "- Average purchase price by age groups\n",
    "- Total amount of purchases by age groups\n",
    "- Average total purchase amount per person in each age groups"
   ],
   "execution_count": null,
   "outputs": []
  },
  {
   "cell_type": "code",
   "execution_count": 90,
   "metadata": {},
   "outputs": [
    {
     "output_type": "execute_result",
     "data": {
      "text/plain": "            Purchase Count  Average Purchase Price  Total Purchase Value  \\\nAge Ranges                                                                 \n<10                     23                3.353478                 77.13   \n10-14                   28                2.956429                 82.78   \n15-19                  136                3.035956                412.89   \n20-24                  365                3.052219               1114.06   \n25-29                  101                2.900990                293.00   \n30-34                   73                2.931507                214.00   \n35-39                   41                3.601707                147.67   \n40+                     13                2.941538                 38.24   \n\n            Avg Total Purchase per Person  \nAge Ranges                                 \n<10                              4.537059  \n10-14                            3.762727  \n15-19                            3.858785  \n20-24                            4.318062  \n25-29                            3.805195  \n30-34                            4.115385  \n35-39                            4.763548  \n40+                              3.186667  ",
      "text/html": "<div>\n<style scoped>\n    .dataframe tbody tr th:only-of-type {\n        vertical-align: middle;\n    }\n\n    .dataframe tbody tr th {\n        vertical-align: top;\n    }\n\n    .dataframe thead th {\n        text-align: right;\n    }\n</style>\n<table border=\"1\" class=\"dataframe\">\n  <thead>\n    <tr style=\"text-align: right;\">\n      <th></th>\n      <th>Purchase Count</th>\n      <th>Average Purchase Price</th>\n      <th>Total Purchase Value</th>\n      <th>Avg Total Purchase per Person</th>\n    </tr>\n    <tr>\n      <th>Age Ranges</th>\n      <th></th>\n      <th></th>\n      <th></th>\n      <th></th>\n    </tr>\n  </thead>\n  <tbody>\n    <tr>\n      <th>&lt;10</th>\n      <td>23</td>\n      <td>3.353478</td>\n      <td>77.13</td>\n      <td>4.537059</td>\n    </tr>\n    <tr>\n      <th>10-14</th>\n      <td>28</td>\n      <td>2.956429</td>\n      <td>82.78</td>\n      <td>3.762727</td>\n    </tr>\n    <tr>\n      <th>15-19</th>\n      <td>136</td>\n      <td>3.035956</td>\n      <td>412.89</td>\n      <td>3.858785</td>\n    </tr>\n    <tr>\n      <th>20-24</th>\n      <td>365</td>\n      <td>3.052219</td>\n      <td>1114.06</td>\n      <td>4.318062</td>\n    </tr>\n    <tr>\n      <th>25-29</th>\n      <td>101</td>\n      <td>2.900990</td>\n      <td>293.00</td>\n      <td>3.805195</td>\n    </tr>\n    <tr>\n      <th>30-34</th>\n      <td>73</td>\n      <td>2.931507</td>\n      <td>214.00</td>\n      <td>4.115385</td>\n    </tr>\n    <tr>\n      <th>35-39</th>\n      <td>41</td>\n      <td>3.601707</td>\n      <td>147.67</td>\n      <td>4.763548</td>\n    </tr>\n    <tr>\n      <th>40+</th>\n      <td>13</td>\n      <td>2.941538</td>\n      <td>38.24</td>\n      <td>3.186667</td>\n    </tr>\n  </tbody>\n</table>\n</div>"
     },
     "metadata": {},
     "execution_count": 90
    }
   ],
   "source": [
    "bins = [0,9,14,19,24,29,34,39,200]\n",
    "labels = [\"<10\", \"10-14\", \"15-19\", \"20-24\", \"25-29\", \"30-34\", \"35-39\", \"40+\"]\n",
    "purch_data_age_bin = purchase_data\n",
    "purch_data_age_bin[\"Age Bin\"] = pd.cut(purch_data_age_bin[\"Age\"], bins=bins, labels=labels)\n",
    "\n",
    "#This is all purchase records grouped by Age Bin\n",
    "purch_data_grouped_by_age_bin = purch_data_age_bin.groupby([\"Age Bin\"])\n",
    "\n",
    "#Count the purchases by Bin\n",
    "purch_by_bin = purch_data_grouped_by_age_bin[\"Purchase ID\"].count()\n",
    "\n",
    "# #Calc the average purchase price by Bin\n",
    "avg_purch_price_by_age_bin = purch_data_grouped_by_age_bin[\"Price\"].sum()/purch_data_grouped_by_age_bin[\"Purchase ID\"].count()\n",
    "\n",
    "# #Calc the total value of purchases by Bin\n",
    "tot_purch_value_by_bin = purch_data_grouped_by_age_bin[\"Price\"].sum()\n",
    "tot_purch_value_by_bin\n",
    "\n",
    "# #Calc the average purchase per person by Bin\n",
    "avg_purch_price_by_bin_per_person = purch_data_grouped_by_age_bin[\"Price\"].sum()/purch_data_grouped_by_age_bin[\"SN\"].nunique()\n",
    "\n",
    "# Create a summary data frame to hold the results\n",
    "bin_purch_summary_df = pd.DataFrame(list(zip(labels, purch_by_bin, avg_purch_price_by_age_bin, tot_purch_value_by_bin, avg_purch_price_by_bin_per_person)), columns =['Age Ranges','Purchase Count',\t'Average Purchase Price',\t'Total Purchase Value',\t'Avg Total Purchase per Person']) \n",
    "\n",
    "bin_purch_summary_df.set_index('Age Ranges', inplace=True)\n",
    "bin_purch_summary_df\n",
    ""
   ]
  },
  {
   "cell_type": "markdown",
   "metadata": {},
   "source": [
    "Top Spenders Analysis\n",
    "\n",
    "Identify the top 5 spender by amount and their:\n",
    "\n",
    "- Gamer ID name\n",
    "- The number of purchases they made\n",
    "- The average price of their purchases\n",
    "- The total amount of their purchases"
   ],
   "execution_count": null,
   "outputs": []
  },
  {
   "cell_type": "code",
   "execution_count": 91,
   "metadata": {},
   "outputs": [
    {
     "output_type": "execute_result",
     "data": {
      "text/plain": "             Purchase Count  Average Purchase Price  Total Purchase Value\nSN                                                                       \nLisosia93                 5                3.792000                 18.96\nIdastidru52               4                3.862500                 15.45\nChamjask73                3                4.610000                 13.83\nIral74                    4                3.405000                 13.62\nIskadarya95               3                4.366667                 13.10",
      "text/html": "<div>\n<style scoped>\n    .dataframe tbody tr th:only-of-type {\n        vertical-align: middle;\n    }\n\n    .dataframe tbody tr th {\n        vertical-align: top;\n    }\n\n    .dataframe thead th {\n        text-align: right;\n    }\n</style>\n<table border=\"1\" class=\"dataframe\">\n  <thead>\n    <tr style=\"text-align: right;\">\n      <th></th>\n      <th>Purchase Count</th>\n      <th>Average Purchase Price</th>\n      <th>Total Purchase Value</th>\n    </tr>\n    <tr>\n      <th>SN</th>\n      <th></th>\n      <th></th>\n      <th></th>\n    </tr>\n  </thead>\n  <tbody>\n    <tr>\n      <th>Lisosia93</th>\n      <td>5</td>\n      <td>3.792000</td>\n      <td>18.96</td>\n    </tr>\n    <tr>\n      <th>Idastidru52</th>\n      <td>4</td>\n      <td>3.862500</td>\n      <td>15.45</td>\n    </tr>\n    <tr>\n      <th>Chamjask73</th>\n      <td>3</td>\n      <td>4.610000</td>\n      <td>13.83</td>\n    </tr>\n    <tr>\n      <th>Iral74</th>\n      <td>4</td>\n      <td>3.405000</td>\n      <td>13.62</td>\n    </tr>\n    <tr>\n      <th>Iskadarya95</th>\n      <td>3</td>\n      <td>4.366667</td>\n      <td>13.10</td>\n    </tr>\n  </tbody>\n</table>\n</div>"
     },
     "metadata": {},
     "execution_count": 91
    }
   ],
   "source": [
    "purch_data_by_gamer = purchase_data.groupby([\"SN\"])\n",
    "\n",
    "#Count the purchases by Gamer\n",
    "purch_by_gamer = purch_data_by_gamer[\"Purchase ID\"].count()\n",
    "\n",
    "#Calc the average purchase price by Gamer\n",
    "avg_purch_price_by_gamer = purch_data_by_gamer[\"Price\"].sum()/purch_data_by_gamer[\"Purchase ID\"].count()\n",
    "\n",
    "#Calc the total value of purchases by Gamer\n",
    "tot_purch_value_by_gamer = purch_data_by_gamer[\"Price\"].sum()\n",
    "\n",
    "#Extrat the user ID's\n",
    "gamer_SN_df = pd.DataFrame(purch_data_by_gamer.first())\n",
    "gamer_SN = gamer_SN_df.index\n",
    "\n",
    "\n",
    "# Create a summary data frame to hold the results\n",
    "gamer_purch_summary_df = pd.DataFrame(list(zip(purch_by_gamer, avg_purch_price_by_gamer, tot_purch_value_by_gamer)), index = gamer_SN, columns =['Purchase Count',\t'Average Purchase Price',\t'Total Purchase Value'])\n",
    "\n",
    "gamer_purch_summary_df.sort_values(by=['Total Purchase Value'], inplace=True, ascending=False)\n",
    "\n",
    "gamer_top_spenders = gamer_purch_summary_df.head(5)\n",
    "gamer_top_spenders"
   ]
  },
  {
   "cell_type": "markdown",
   "metadata": {},
   "source": [
    "Most Popular Items Analysis\n",
    "\n",
    "Identify the most popular items by number of purchases and their:\n",
    "- Item ID\n",
    "- Item Name\n",
    "- Number of times the item was purchased\n",
    "- Average price paid for the item\n",
    "- Total amount of purchases for the item"
   ],
   "execution_count": null,
   "outputs": []
  },
  {
   "cell_type": "code",
   "execution_count": 92,
   "metadata": {},
   "outputs": [
    {
     "output_type": "execute_result",
     "data": {
      "text/plain": "                                            Item Name  Purchase Count  \\\nItem ID                                                                 \n92                                       Final Critic              13   \n178      Oathbreaker, Last Hope of the Breaking Storm              12   \n145                              Fiery Glass Crusader               9   \n132                                        Persuasion               9   \n108         Extraction, Quickblade Of Trembling Hands               9   \n\n         Item Price  Total Purchase Value  \nItem ID                                    \n92         4.614615                 59.99  \n178        4.230000                 50.76  \n145        4.580000                 41.22  \n132        3.221111                 28.99  \n108        3.530000                 31.77  ",
      "text/html": "<div>\n<style scoped>\n    .dataframe tbody tr th:only-of-type {\n        vertical-align: middle;\n    }\n\n    .dataframe tbody tr th {\n        vertical-align: top;\n    }\n\n    .dataframe thead th {\n        text-align: right;\n    }\n</style>\n<table border=\"1\" class=\"dataframe\">\n  <thead>\n    <tr style=\"text-align: right;\">\n      <th></th>\n      <th>Item Name</th>\n      <th>Purchase Count</th>\n      <th>Item Price</th>\n      <th>Total Purchase Value</th>\n    </tr>\n    <tr>\n      <th>Item ID</th>\n      <th></th>\n      <th></th>\n      <th></th>\n      <th></th>\n    </tr>\n  </thead>\n  <tbody>\n    <tr>\n      <th>92</th>\n      <td>Final Critic</td>\n      <td>13</td>\n      <td>4.614615</td>\n      <td>59.99</td>\n    </tr>\n    <tr>\n      <th>178</th>\n      <td>Oathbreaker, Last Hope of the Breaking Storm</td>\n      <td>12</td>\n      <td>4.230000</td>\n      <td>50.76</td>\n    </tr>\n    <tr>\n      <th>145</th>\n      <td>Fiery Glass Crusader</td>\n      <td>9</td>\n      <td>4.580000</td>\n      <td>41.22</td>\n    </tr>\n    <tr>\n      <th>132</th>\n      <td>Persuasion</td>\n      <td>9</td>\n      <td>3.221111</td>\n      <td>28.99</td>\n    </tr>\n    <tr>\n      <th>108</th>\n      <td>Extraction, Quickblade Of Trembling Hands</td>\n      <td>9</td>\n      <td>3.530000</td>\n      <td>31.77</td>\n    </tr>\n  </tbody>\n</table>\n</div>"
     },
     "metadata": {},
     "execution_count": 92
    }
   ],
   "source": [
    "#Create df grouped by Item ID\n",
    "item_summary_df = purchase_data[[\"Item ID\", \"Item Name\", \"Price\"]]\n",
    "group_by_item = item_summary_df.groupby([\"Item ID\"])\n",
    "\n",
    "#Extrat the item ID's\n",
    "item_ID_df = pd.DataFrame(group_by_item.first())\n",
    "\n",
    "\n",
    "#Item purchase count\n",
    "purch_by_item = group_by_item[\"Item ID\"].count()\n",
    "item_ID_df[\"Purchase Count\"]=purch_by_item\n",
    " \n",
    "#Item price\n",
    "item_price = group_by_item[\"Price\"].mean()\n",
    "item_ID_df[\"Price\"]=item_price\n",
    "\n",
    "#Item total purchase value\n",
    "tot_purch_value_item = group_by_item[\"Price\"].sum()\n",
    "item_ID_df[\"Total Purchase Value\"]=tot_purch_value_item\n",
    "\n",
    "item_ID_df=item_ID_df[['Item Name', 'Purchase Count', 'Price', 'Total Purchase Value']]\n",
    "item_ID_df.rename(columns = {'Price':'Item Price'}, inplace=True)\n",
    "\n",
    "item_ID_df\n",
    "\n",
    "item_ID_df.sort_values(by=['Purchase Count'], inplace=True, ascending=False)\n",
    "\n",
    "most_pop_items = item_ID_df.head(5)\n",
    "most_pop_items\n",
    ""
   ]
  },
  {
   "cell_type": "markdown",
   "metadata": {},
   "source": [
    "Most Profitable Item Analysis\n",
    "\n",
    "Identify the top 5 most popular items by total amount spent on that item, including:\n",
    "- Item ID\n",
    "- Item Name\n",
    "- Number of time the item was purchased\n",
    "- Total amount spend on the item"
   ],
   "execution_count": null,
   "outputs": []
  },
  {
   "cell_type": "code",
   "execution_count": 93,
   "metadata": {},
   "outputs": [
    {
     "output_type": "execute_result",
     "data": {
      "text/plain": "                                            Item Name  Purchase Count  \\\nItem ID                                                                 \n92                                       Final Critic              13   \n178      Oathbreaker, Last Hope of the Breaking Storm              12   \n82                                            Nirvana               9   \n145                              Fiery Glass Crusader               9   \n103                                    Singed Scalpel               8   \n\n         Item Price  Total Purchase Value  \nItem ID                                    \n92         4.614615                 59.99  \n178        4.230000                 50.76  \n82         4.900000                 44.10  \n145        4.580000                 41.22  \n103        4.350000                 34.80  ",
      "text/html": "<div>\n<style scoped>\n    .dataframe tbody tr th:only-of-type {\n        vertical-align: middle;\n    }\n\n    .dataframe tbody tr th {\n        vertical-align: top;\n    }\n\n    .dataframe thead th {\n        text-align: right;\n    }\n</style>\n<table border=\"1\" class=\"dataframe\">\n  <thead>\n    <tr style=\"text-align: right;\">\n      <th></th>\n      <th>Item Name</th>\n      <th>Purchase Count</th>\n      <th>Item Price</th>\n      <th>Total Purchase Value</th>\n    </tr>\n    <tr>\n      <th>Item ID</th>\n      <th></th>\n      <th></th>\n      <th></th>\n      <th></th>\n    </tr>\n  </thead>\n  <tbody>\n    <tr>\n      <th>92</th>\n      <td>Final Critic</td>\n      <td>13</td>\n      <td>4.614615</td>\n      <td>59.99</td>\n    </tr>\n    <tr>\n      <th>178</th>\n      <td>Oathbreaker, Last Hope of the Breaking Storm</td>\n      <td>12</td>\n      <td>4.230000</td>\n      <td>50.76</td>\n    </tr>\n    <tr>\n      <th>82</th>\n      <td>Nirvana</td>\n      <td>9</td>\n      <td>4.900000</td>\n      <td>44.10</td>\n    </tr>\n    <tr>\n      <th>145</th>\n      <td>Fiery Glass Crusader</td>\n      <td>9</td>\n      <td>4.580000</td>\n      <td>41.22</td>\n    </tr>\n    <tr>\n      <th>103</th>\n      <td>Singed Scalpel</td>\n      <td>8</td>\n      <td>4.350000</td>\n      <td>34.80</td>\n    </tr>\n  </tbody>\n</table>\n</div>"
     },
     "metadata": {},
     "execution_count": 93
    }
   ],
   "source": [
    "item_ID_df.sort_values(by=['Total Purchase Value'], inplace=True, ascending=False)\n",
    "most_profit_items = item_ID_df.head(5)\n",
    "most_profit_items\n",
    ""
   ]
  },
  {
   "cell_type": "code",
   "execution_count": null,
   "metadata": {},
   "outputs": [],
   "source": []
  }
 ],
 "metadata": {
  "kernelspec": {
   "display_name": "Python 3.6.10 64-bit ('PythonData': conda)",
   "language": "python",
   "name": "python361064bitpythondatacondaab47c43dfe824d4eb95e9e8f15b48370"
  },
  "language_info": {
   "codemirror_mode": {
    "name": "ipython",
    "version": 3
   },
   "file_extension": ".py",
   "mimetype": "text/x-python",
   "name": "python",
   "nbconvert_exporter": "python",
   "pygments_lexer": "ipython3",
   "version": "3.6.10-final"
  }
 },
 "nbformat": 4,
 "nbformat_minor": 4
}