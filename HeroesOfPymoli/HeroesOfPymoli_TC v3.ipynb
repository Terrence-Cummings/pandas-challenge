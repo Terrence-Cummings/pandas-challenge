{
 "cells": [
  {
   "cell_type": "markdown",
   "metadata": {},
   "source": [
    "Heroes Of Pymoli Data Analysis\n",
    "\n",
    "We have analyzed the in-game purchases of the obscure game Heroes of Pymoli. We have looked for demographic and purchase patterns by gender, age, and the item being purchased.\n",
    "\n",
    "Of the 576 active players, the vast majority are male, spoiler alert (84%). It is unclear whether they live in their moms' basement, but we feel it's a safe assumption.\n",
    "\n",
    "44.79% of the gamers are in the age range 20-24. Presumably these are college students skipping class. Notably, 2.08% of the gamers are age 40 and over. Probably playing games at the office. This age group spends the least on average at only $3.19 per person. They are probably pretty bad at the game and don't progress far enough to buy the expensive items.\n",
    "\n",
    "Gamer Lisosia93 is a big spender. They bought 5 in-game purchases for a total of $18.96. One wonders if they are any good at the game or just paying to win.\n",
    "\n",
    "The item \"Final Critic\" has been purchased the most, 13 times, for a total revenue of $59.99. It must be super helpful.\n",
    "\n",
    "In summary, with only 576 player and total revenue of only $2,379.77 Heroes of Pymoli seems to be a flop. Time to shut it down.\n",
    "\n"
   ],
   "execution_count": null,
   "outputs": []
  },
  {
   "cell_type": "code",
   "execution_count": 54,
   "metadata": {},
   "outputs": [],
   "source": [
    "# Dependencies and Setup\n",
    "import pandas as pd\n",
    "import numpy as np\n",
    "\n",
    "# File to Load\n",
    "file_to_load = \"Resources/purchase_data.csv\"\n",
    "\n",
    "# Read Purchasing File and store into Pandas data frame\n",
    "purchase_data = pd.read_csv(file_to_load)"
   ]
  },
  {
   "cell_type": "markdown",
   "metadata": {},
   "source": [
    "Player Count: Display the total number of players"
   ],
   "execution_count": null,
   "outputs": []
  },
  {
   "cell_type": "code",
   "execution_count": 55,
   "metadata": {},
   "outputs": [
    {
     "output_type": "execute_result",
     "data": {
      "text/plain": "<pandas.io.formats.style.Styler at 0x118514208>",
      "text/html": "<style  type=\"text/css\" >\n</style><table id=\"T_ae6ef162_7138_11ea_a391_acde48001122\" ><thead>    <tr>        <th class=\"col_heading level0 col0\" >Total Players</th>    </tr></thead><tbody>\n                <tr>\n                                <td id=\"T_ae6ef162_7138_11ea_a391_acde48001122row0_col0\" class=\"data row0 col0\" >576</td>\n            </tr>\n    </tbody></table>"
     },
     "metadata": {},
     "execution_count": 55
    }
   ],
   "source": [
    "total_players_df = pd.DataFrame({'Total Players':[purchase_data[\"SN\"].nunique()]})\n",
    "total_players_df.style.hide_index()"
   ]
  },
  {
   "cell_type": "markdown",
   "metadata": {},
   "source": [
    "Purchasing Analysis (Total)\n",
    "\n",
    "Analyze the items purchased by showing\n",
    "\n",
    "- The number of unique items purchased\n",
    "- The average price paid for a purchased items\n",
    "- The total number of purchases made\n",
    "- The total revenue received from items sold"
   ],
   "execution_count": null,
   "outputs": []
  },
  {
   "cell_type": "code",
   "execution_count": 56,
   "metadata": {},
   "outputs": [
    {
     "output_type": "execute_result",
     "data": {
      "text/plain": "<pandas.io.formats.style.Styler at 0x118506390>",
      "text/html": "<style  type=\"text/css\" >\n</style><table id=\"T_ae72e2e8_7138_11ea_ab48_acde48001122\" ><thead>    <tr>        <th class=\"col_heading level0 col0\" >Number of Unique Items</th>        <th class=\"col_heading level0 col1\" >Average Price</th>        <th class=\"col_heading level0 col2\" >Total Number of Purchases</th>        <th class=\"col_heading level0 col3\" >Total Revenue</th>    </tr></thead><tbody>\n                <tr>\n                                <td id=\"T_ae72e2e8_7138_11ea_ab48_acde48001122row0_col0\" class=\"data row0 col0\" >179</td>\n                        <td id=\"T_ae72e2e8_7138_11ea_ab48_acde48001122row0_col1\" class=\"data row0 col1\" >$3.05</td>\n                        <td id=\"T_ae72e2e8_7138_11ea_ab48_acde48001122row0_col2\" class=\"data row0 col2\" >780</td>\n                        <td id=\"T_ae72e2e8_7138_11ea_ab48_acde48001122row0_col3\" class=\"data row0 col3\" >$2,379.77</td>\n            </tr>\n    </tbody></table>"
     },
     "metadata": {},
     "execution_count": 56
    }
   ],
   "source": [
    "purch_analysis_tot_df = pd.DataFrame({\"Number of Unique Items\":[purchase_data[\"Item Name\"].nunique()],\n",
    "            \"Average Price\":[purchase_data[\"Price\"].mean()],\n",
    "            \"Total Number of Purchases\":[purchase_data[\"Purchase ID\"].nunique()],\n",
    "            \"Total Revenue\":[purchase_data[\"Price\"].sum()]\n",
    "           })\n",
    "purch_analysis_tot_df.style.hide_index().format({\"Average Price\": \"${:,.2f}\", \"Total Revenue\": \"${:,.2f}\"})"
   ]
  },
  {
   "cell_type": "markdown",
   "metadata": {},
   "source": [
    "Gender Demographics\n",
    "\n",
    "Analyze the gender demographics of the players by showing:\n",
    "- Number of players by gender\n",
    "- Percentage of players by gender"
   ],
   "execution_count": null,
   "outputs": []
  },
  {
   "cell_type": "code",
   "execution_count": 57,
   "metadata": {},
   "outputs": [
    {
     "output_type": "execute_result",
     "data": {
      "text/plain": "<pandas.io.formats.style.Styler at 0x118bee198>",
      "text/html": "<style  type=\"text/css\" >\n</style><table id=\"T_ae77748c_7138_11ea_88f9_acde48001122\" ><thead>    <tr>        <th class=\"blank level0\" ></th>        <th class=\"col_heading level0 col0\" >Total Count</th>        <th class=\"col_heading level0 col1\" >Percentage of Players</th>    </tr></thead><tbody>\n                <tr>\n                        <th id=\"T_ae77748c_7138_11ea_88f9_acde48001122level0_row0\" class=\"row_heading level0 row0\" >Male</th>\n                        <td id=\"T_ae77748c_7138_11ea_88f9_acde48001122row0_col0\" class=\"data row0 col0\" >484</td>\n                        <td id=\"T_ae77748c_7138_11ea_88f9_acde48001122row0_col1\" class=\"data row0 col1\" >84.03%</td>\n            </tr>\n            <tr>\n                        <th id=\"T_ae77748c_7138_11ea_88f9_acde48001122level0_row1\" class=\"row_heading level0 row1\" >Female</th>\n                        <td id=\"T_ae77748c_7138_11ea_88f9_acde48001122row1_col0\" class=\"data row1 col0\" >81</td>\n                        <td id=\"T_ae77748c_7138_11ea_88f9_acde48001122row1_col1\" class=\"data row1 col1\" >14.06%</td>\n            </tr>\n            <tr>\n                        <th id=\"T_ae77748c_7138_11ea_88f9_acde48001122level0_row2\" class=\"row_heading level0 row2\" >Other / Non-Disclosed</th>\n                        <td id=\"T_ae77748c_7138_11ea_88f9_acde48001122row2_col0\" class=\"data row2 col0\" >11</td>\n                        <td id=\"T_ae77748c_7138_11ea_88f9_acde48001122row2_col1\" class=\"data row2 col1\" >1.91%</td>\n            </tr>\n    </tbody></table>"
     },
     "metadata": {},
     "execution_count": 57
    }
   ],
   "source": [
    "#Create a df grouped by User ID to eliminate duplicate purchases for same User\n",
    "user_grouped_purch_data = purchase_data.groupby([\"SN\"])\n",
    "\n",
    "#Grab the first line of each User ID grouping in order to create a df where each line is a unique user\n",
    "first_user_occurance = user_grouped_purch_data.first()\n",
    "\n",
    "#Create a df column of counts by gender for the unique user df\n",
    "gender_demog_df = pd.DataFrame(first_user_occurance[\"Gender\"].value_counts())\n",
    "\n",
    "#Add a df column to hold the calc of percentage of players in each gender\n",
    "gender_demog_df[\"Percentage of Players\"]=gender_demog_df[\"Gender\"]/gender_demog_df[\"Gender\"].sum()\n",
    "\n",
    "#Rename the Gender column to Total Count\n",
    "gender_demog_df.rename(columns = {'Gender':'Total Count'}, inplace=True)\n",
    "\n",
    "gender_demog_df.style.format({\"Percentage of Players\": \"{:.2%}\"})"
   ]
  },
  {
   "cell_type": "markdown",
   "metadata": {},
   "source": [
    "Purchasing Analysis (GENDER)\n",
    "\n",
    "Analyze the player purchases made by gender by showing:\n",
    "\n",
    "- Number of purchases by gender\n",
    "- Average price of a purchase by gender\n",
    "- Total value of purchases by gender\n",
    "- Average total purchase per person by gender "
   ],
   "execution_count": null,
   "outputs": []
  },
  {
   "cell_type": "code",
   "execution_count": 58,
   "metadata": {},
   "outputs": [
    {
     "output_type": "execute_result",
     "data": {
      "text/plain": "<pandas.io.formats.style.Styler at 0x118d3ac18>",
      "text/html": "<style  type=\"text/css\" >\n</style><table id=\"T_ae7e1582_7138_11ea_855d_acde48001122\" ><thead>    <tr>        <th class=\"blank level0\" ></th>        <th class=\"col_heading level0 col0\" >Purchase Count</th>        <th class=\"col_heading level0 col1\" >Average Purchase Price</th>        <th class=\"col_heading level0 col2\" >Total Purchase Value</th>        <th class=\"col_heading level0 col3\" >Avg Total Purchase per Person</th>    </tr>    <tr>        <th class=\"index_name level0\" >Gender</th>        <th class=\"blank\" ></th>        <th class=\"blank\" ></th>        <th class=\"blank\" ></th>        <th class=\"blank\" ></th>    </tr></thead><tbody>\n                <tr>\n                        <th id=\"T_ae7e1582_7138_11ea_855d_acde48001122level0_row0\" class=\"row_heading level0 row0\" >Female</th>\n                        <td id=\"T_ae7e1582_7138_11ea_855d_acde48001122row0_col0\" class=\"data row0 col0\" >113</td>\n                        <td id=\"T_ae7e1582_7138_11ea_855d_acde48001122row0_col1\" class=\"data row0 col1\" >$3.20</td>\n                        <td id=\"T_ae7e1582_7138_11ea_855d_acde48001122row0_col2\" class=\"data row0 col2\" >$361.94</td>\n                        <td id=\"T_ae7e1582_7138_11ea_855d_acde48001122row0_col3\" class=\"data row0 col3\" >$4.47</td>\n            </tr>\n            <tr>\n                        <th id=\"T_ae7e1582_7138_11ea_855d_acde48001122level0_row1\" class=\"row_heading level0 row1\" >Male</th>\n                        <td id=\"T_ae7e1582_7138_11ea_855d_acde48001122row1_col0\" class=\"data row1 col0\" >652</td>\n                        <td id=\"T_ae7e1582_7138_11ea_855d_acde48001122row1_col1\" class=\"data row1 col1\" >$3.02</td>\n                        <td id=\"T_ae7e1582_7138_11ea_855d_acde48001122row1_col2\" class=\"data row1 col2\" >$1,967.64</td>\n                        <td id=\"T_ae7e1582_7138_11ea_855d_acde48001122row1_col3\" class=\"data row1 col3\" >$4.07</td>\n            </tr>\n            <tr>\n                        <th id=\"T_ae7e1582_7138_11ea_855d_acde48001122level0_row2\" class=\"row_heading level0 row2\" >Other / Non-Disclosed</th>\n                        <td id=\"T_ae7e1582_7138_11ea_855d_acde48001122row2_col0\" class=\"data row2 col0\" >15</td>\n                        <td id=\"T_ae7e1582_7138_11ea_855d_acde48001122row2_col1\" class=\"data row2 col1\" >$3.35</td>\n                        <td id=\"T_ae7e1582_7138_11ea_855d_acde48001122row2_col2\" class=\"data row2 col2\" >$50.19</td>\n                        <td id=\"T_ae7e1582_7138_11ea_855d_acde48001122row2_col3\" class=\"data row2 col3\" >$4.56</td>\n            </tr>\n    </tbody></table>"
     },
     "metadata": {},
     "execution_count": 58
    }
   ],
   "source": [
    "#Create a df grouped by Gender\n",
    "gender_grouped_purch_data = purchase_data.groupby([\"Gender\"])\n",
    "\n",
    "#Count the purchases by Gender\n",
    "purch_by_gender = gender_grouped_purch_data[\"Purchase ID\"].count()\n",
    "\n",
    "#Calc the average purchase price by Gender\n",
    "avg_purch_price_by_gender = gender_grouped_purch_data[\"Price\"].sum()/gender_grouped_purch_data[\"Purchase ID\"].count()\n",
    "\n",
    "#Calc the total value of purchases by gender\n",
    "tot_purch_value_by_gender = gender_grouped_purch_data[\"Price\"].sum()\n",
    "\n",
    "#Calc the average purchase per person by Gender\n",
    "avg_purch_price_by_gender_per_person = gender_grouped_purch_data[\"Price\"].sum()/gender_grouped_purch_data[\"SN\"].nunique()\n",
    "\n",
    "#Extrat the genders\n",
    "gamer_gender_df = pd.DataFrame(gender_grouped_purch_data.first())\n",
    "gamer_gender = gamer_gender_df.index\n",
    "\n",
    "# Create a summary data frame to hold the results\n",
    "purch_analysis_gender_final = pd.DataFrame(list(zip(purch_by_gender, avg_purch_price_by_gender, tot_purch_value_by_gender, avg_purch_price_by_gender_per_person)), index = gamer_gender, columns =['Purchase Count',\t'Average Purchase Price',\t'Total Purchase Value', 'Avg Total Purchase per Person'])\n",
    "\n",
    "purch_analysis_gender_final.style.format({\"Average Purchase Price\": \"${:,.2f}\", \"Total Purchase Value\": \"${:,.2f}\", \"Avg Total Purchase per Person\": \"${:,.2f}\"})"
   ]
  },
  {
   "cell_type": "markdown",
   "metadata": {},
   "source": [
    "Age Demographics\n",
    "\n",
    "Analyze the age demographics of players by showing:\n",
    "\n",
    "- Number of players in each 5 year age band\n",
    "- Percentage of players in each 5 year age band"
   ],
   "execution_count": null,
   "outputs": []
  },
  {
   "cell_type": "code",
   "execution_count": 59,
   "metadata": {},
   "outputs": [
    {
     "output_type": "execute_result",
     "data": {
      "text/plain": "<pandas.io.formats.style.Styler at 0x118d3cf28>",
      "text/html": "<style  type=\"text/css\" >\n</style><table id=\"T_ae83b534_7138_11ea_a7b4_acde48001122\" ><thead>    <tr>        <th class=\"blank level0\" ></th>        <th class=\"col_heading level0 col0\" >Total Count</th>        <th class=\"col_heading level0 col1\" >Percentage of Players</th>    </tr>    <tr>        <th class=\"index_name level0\" >Age Ranges</th>        <th class=\"blank\" ></th>        <th class=\"blank\" ></th>    </tr></thead><tbody>\n                <tr>\n                        <th id=\"T_ae83b534_7138_11ea_a7b4_acde48001122level0_row0\" class=\"row_heading level0 row0\" ><10</th>\n                        <td id=\"T_ae83b534_7138_11ea_a7b4_acde48001122row0_col0\" class=\"data row0 col0\" >17</td>\n                        <td id=\"T_ae83b534_7138_11ea_a7b4_acde48001122row0_col1\" class=\"data row0 col1\" >2.95%</td>\n            </tr>\n            <tr>\n                        <th id=\"T_ae83b534_7138_11ea_a7b4_acde48001122level0_row1\" class=\"row_heading level0 row1\" >10-14</th>\n                        <td id=\"T_ae83b534_7138_11ea_a7b4_acde48001122row1_col0\" class=\"data row1 col0\" >22</td>\n                        <td id=\"T_ae83b534_7138_11ea_a7b4_acde48001122row1_col1\" class=\"data row1 col1\" >3.82%</td>\n            </tr>\n            <tr>\n                        <th id=\"T_ae83b534_7138_11ea_a7b4_acde48001122level0_row2\" class=\"row_heading level0 row2\" >15-19</th>\n                        <td id=\"T_ae83b534_7138_11ea_a7b4_acde48001122row2_col0\" class=\"data row2 col0\" >107</td>\n                        <td id=\"T_ae83b534_7138_11ea_a7b4_acde48001122row2_col1\" class=\"data row2 col1\" >18.58%</td>\n            </tr>\n            <tr>\n                        <th id=\"T_ae83b534_7138_11ea_a7b4_acde48001122level0_row3\" class=\"row_heading level0 row3\" >20-24</th>\n                        <td id=\"T_ae83b534_7138_11ea_a7b4_acde48001122row3_col0\" class=\"data row3 col0\" >258</td>\n                        <td id=\"T_ae83b534_7138_11ea_a7b4_acde48001122row3_col1\" class=\"data row3 col1\" >44.79%</td>\n            </tr>\n            <tr>\n                        <th id=\"T_ae83b534_7138_11ea_a7b4_acde48001122level0_row4\" class=\"row_heading level0 row4\" >25-29</th>\n                        <td id=\"T_ae83b534_7138_11ea_a7b4_acde48001122row4_col0\" class=\"data row4 col0\" >77</td>\n                        <td id=\"T_ae83b534_7138_11ea_a7b4_acde48001122row4_col1\" class=\"data row4 col1\" >13.37%</td>\n            </tr>\n            <tr>\n                        <th id=\"T_ae83b534_7138_11ea_a7b4_acde48001122level0_row5\" class=\"row_heading level0 row5\" >30-34</th>\n                        <td id=\"T_ae83b534_7138_11ea_a7b4_acde48001122row5_col0\" class=\"data row5 col0\" >52</td>\n                        <td id=\"T_ae83b534_7138_11ea_a7b4_acde48001122row5_col1\" class=\"data row5 col1\" >9.03%</td>\n            </tr>\n            <tr>\n                        <th id=\"T_ae83b534_7138_11ea_a7b4_acde48001122level0_row6\" class=\"row_heading level0 row6\" >35-39</th>\n                        <td id=\"T_ae83b534_7138_11ea_a7b4_acde48001122row6_col0\" class=\"data row6 col0\" >31</td>\n                        <td id=\"T_ae83b534_7138_11ea_a7b4_acde48001122row6_col1\" class=\"data row6 col1\" >5.38%</td>\n            </tr>\n            <tr>\n                        <th id=\"T_ae83b534_7138_11ea_a7b4_acde48001122level0_row7\" class=\"row_heading level0 row7\" >40+</th>\n                        <td id=\"T_ae83b534_7138_11ea_a7b4_acde48001122row7_col0\" class=\"data row7 col0\" >12</td>\n                        <td id=\"T_ae83b534_7138_11ea_a7b4_acde48001122row7_col1\" class=\"data row7 col1\" >2.08%</td>\n            </tr>\n    </tbody></table>"
     },
     "metadata": {},
     "execution_count": 59
    }
   ],
   "source": [
    "# make the bins and labels\n",
    "bins = [0,9,14,19,24,29,34,39,200]\n",
    "labels = [\"<10\", \"10-14\", \"15-19\", \"20-24\", \"25-29\", \"30-34\", \"35-39\", \"40+\"]\n",
    "purchase_data_bin_age = first_user_occurance\n",
    "purchase_data_bin_age[\"Age Bin\"] = pd.cut(purchase_data_bin_age[\"Age\"], bins=bins, labels=labels)\n",
    "\n",
    "#Create a df grouped by age bin\n",
    "purchase_data_grouped_by_bin = purchase_data_bin_age.groupby([\"Age Bin\"])\n",
    "\n",
    "# Calculate the numbers and percentages by age group\n",
    "bin_count = purchase_data_grouped_by_bin[\"Age Bin\"].count()\n",
    "tot_players_count = first_user_occurance.count()\n",
    "bin_pct = bin_count/tot_players_count[\"Age\"]\n",
    "\n",
    "# Create a summary data frame to hold the results\n",
    "age_demog_summary_df = pd.DataFrame(list(zip(labels, bin_count, bin_pct)), columns =['Age Ranges', 'Total Count', 'Percentage of Players']) \n",
    "\n",
    "# Optional: round the percentage column to two decimal points\n",
    "# Display Age Demographics Table\n",
    "age_demog_summary_df.set_index('Age Ranges', inplace=True)\n",
    "age_demog_summary_df.style.format({\"Percentage of Players\": \"{:.2%}\"})"
   ]
  },
  {
   "cell_type": "markdown",
   "metadata": {},
   "source": [
    "Purchasing Analysis by Age\n",
    "\n",
    "Analyze the purchasing behavior of different age groups by showing:\n",
    "\n",
    "- Total number of purchases by age groups\n",
    "- Average purchase price by age groups\n",
    "- Total amount of purchases by age groups\n",
    "- Average total purchase amount per person in each age groups"
   ],
   "execution_count": null,
   "outputs": []
  },
  {
   "cell_type": "code",
   "execution_count": 60,
   "metadata": {},
   "outputs": [
    {
     "output_type": "execute_result",
     "data": {
      "text/plain": "<pandas.io.formats.style.Styler at 0x1184adac8>",
      "text/html": "<style  type=\"text/css\" >\n</style><table id=\"T_ae88bfb4_7138_11ea_9f42_acde48001122\" ><thead>    <tr>        <th class=\"blank level0\" ></th>        <th class=\"col_heading level0 col0\" >Purchase Count</th>        <th class=\"col_heading level0 col1\" >Average Purchase Price</th>        <th class=\"col_heading level0 col2\" >Total Purchase Value</th>        <th class=\"col_heading level0 col3\" >Avg Total Purchase per Person</th>    </tr>    <tr>        <th class=\"index_name level0\" >Age Ranges</th>        <th class=\"blank\" ></th>        <th class=\"blank\" ></th>        <th class=\"blank\" ></th>        <th class=\"blank\" ></th>    </tr></thead><tbody>\n                <tr>\n                        <th id=\"T_ae88bfb4_7138_11ea_9f42_acde48001122level0_row0\" class=\"row_heading level0 row0\" ><10</th>\n                        <td id=\"T_ae88bfb4_7138_11ea_9f42_acde48001122row0_col0\" class=\"data row0 col0\" >23</td>\n                        <td id=\"T_ae88bfb4_7138_11ea_9f42_acde48001122row0_col1\" class=\"data row0 col1\" >$3.35</td>\n                        <td id=\"T_ae88bfb4_7138_11ea_9f42_acde48001122row0_col2\" class=\"data row0 col2\" >$77.13</td>\n                        <td id=\"T_ae88bfb4_7138_11ea_9f42_acde48001122row0_col3\" class=\"data row0 col3\" >$4.54</td>\n            </tr>\n            <tr>\n                        <th id=\"T_ae88bfb4_7138_11ea_9f42_acde48001122level0_row1\" class=\"row_heading level0 row1\" >10-14</th>\n                        <td id=\"T_ae88bfb4_7138_11ea_9f42_acde48001122row1_col0\" class=\"data row1 col0\" >28</td>\n                        <td id=\"T_ae88bfb4_7138_11ea_9f42_acde48001122row1_col1\" class=\"data row1 col1\" >$2.96</td>\n                        <td id=\"T_ae88bfb4_7138_11ea_9f42_acde48001122row1_col2\" class=\"data row1 col2\" >$82.78</td>\n                        <td id=\"T_ae88bfb4_7138_11ea_9f42_acde48001122row1_col3\" class=\"data row1 col3\" >$3.76</td>\n            </tr>\n            <tr>\n                        <th id=\"T_ae88bfb4_7138_11ea_9f42_acde48001122level0_row2\" class=\"row_heading level0 row2\" >15-19</th>\n                        <td id=\"T_ae88bfb4_7138_11ea_9f42_acde48001122row2_col0\" class=\"data row2 col0\" >136</td>\n                        <td id=\"T_ae88bfb4_7138_11ea_9f42_acde48001122row2_col1\" class=\"data row2 col1\" >$3.04</td>\n                        <td id=\"T_ae88bfb4_7138_11ea_9f42_acde48001122row2_col2\" class=\"data row2 col2\" >$412.89</td>\n                        <td id=\"T_ae88bfb4_7138_11ea_9f42_acde48001122row2_col3\" class=\"data row2 col3\" >$3.86</td>\n            </tr>\n            <tr>\n                        <th id=\"T_ae88bfb4_7138_11ea_9f42_acde48001122level0_row3\" class=\"row_heading level0 row3\" >20-24</th>\n                        <td id=\"T_ae88bfb4_7138_11ea_9f42_acde48001122row3_col0\" class=\"data row3 col0\" >365</td>\n                        <td id=\"T_ae88bfb4_7138_11ea_9f42_acde48001122row3_col1\" class=\"data row3 col1\" >$3.05</td>\n                        <td id=\"T_ae88bfb4_7138_11ea_9f42_acde48001122row3_col2\" class=\"data row3 col2\" >$1,114.06</td>\n                        <td id=\"T_ae88bfb4_7138_11ea_9f42_acde48001122row3_col3\" class=\"data row3 col3\" >$4.32</td>\n            </tr>\n            <tr>\n                        <th id=\"T_ae88bfb4_7138_11ea_9f42_acde48001122level0_row4\" class=\"row_heading level0 row4\" >25-29</th>\n                        <td id=\"T_ae88bfb4_7138_11ea_9f42_acde48001122row4_col0\" class=\"data row4 col0\" >101</td>\n                        <td id=\"T_ae88bfb4_7138_11ea_9f42_acde48001122row4_col1\" class=\"data row4 col1\" >$2.90</td>\n                        <td id=\"T_ae88bfb4_7138_11ea_9f42_acde48001122row4_col2\" class=\"data row4 col2\" >$293.00</td>\n                        <td id=\"T_ae88bfb4_7138_11ea_9f42_acde48001122row4_col3\" class=\"data row4 col3\" >$3.81</td>\n            </tr>\n            <tr>\n                        <th id=\"T_ae88bfb4_7138_11ea_9f42_acde48001122level0_row5\" class=\"row_heading level0 row5\" >30-34</th>\n                        <td id=\"T_ae88bfb4_7138_11ea_9f42_acde48001122row5_col0\" class=\"data row5 col0\" >73</td>\n                        <td id=\"T_ae88bfb4_7138_11ea_9f42_acde48001122row5_col1\" class=\"data row5 col1\" >$2.93</td>\n                        <td id=\"T_ae88bfb4_7138_11ea_9f42_acde48001122row5_col2\" class=\"data row5 col2\" >$214.00</td>\n                        <td id=\"T_ae88bfb4_7138_11ea_9f42_acde48001122row5_col3\" class=\"data row5 col3\" >$4.12</td>\n            </tr>\n            <tr>\n                        <th id=\"T_ae88bfb4_7138_11ea_9f42_acde48001122level0_row6\" class=\"row_heading level0 row6\" >35-39</th>\n                        <td id=\"T_ae88bfb4_7138_11ea_9f42_acde48001122row6_col0\" class=\"data row6 col0\" >41</td>\n                        <td id=\"T_ae88bfb4_7138_11ea_9f42_acde48001122row6_col1\" class=\"data row6 col1\" >$3.60</td>\n                        <td id=\"T_ae88bfb4_7138_11ea_9f42_acde48001122row6_col2\" class=\"data row6 col2\" >$147.67</td>\n                        <td id=\"T_ae88bfb4_7138_11ea_9f42_acde48001122row6_col3\" class=\"data row6 col3\" >$4.76</td>\n            </tr>\n            <tr>\n                        <th id=\"T_ae88bfb4_7138_11ea_9f42_acde48001122level0_row7\" class=\"row_heading level0 row7\" >40+</th>\n                        <td id=\"T_ae88bfb4_7138_11ea_9f42_acde48001122row7_col0\" class=\"data row7 col0\" >13</td>\n                        <td id=\"T_ae88bfb4_7138_11ea_9f42_acde48001122row7_col1\" class=\"data row7 col1\" >$2.94</td>\n                        <td id=\"T_ae88bfb4_7138_11ea_9f42_acde48001122row7_col2\" class=\"data row7 col2\" >$38.24</td>\n                        <td id=\"T_ae88bfb4_7138_11ea_9f42_acde48001122row7_col3\" class=\"data row7 col3\" >$3.19</td>\n            </tr>\n    </tbody></table>"
     },
     "metadata": {},
     "execution_count": 60
    }
   ],
   "source": [
    "#make bins and labels\n",
    "bins = [0,9,14,19,24,29,34,39,200]\n",
    "labels = [\"<10\", \"10-14\", \"15-19\", \"20-24\", \"25-29\", \"30-34\", \"35-39\", \"40+\"]\n",
    "purch_data_age_bin = purchase_data\n",
    "purch_data_age_bin[\"Age Bin\"] = pd.cut(purch_data_age_bin[\"Age\"], bins=bins, labels=labels)\n",
    "\n",
    "#This is all purchase records grouped by Age Bin\n",
    "purch_data_grouped_by_age_bin = purch_data_age_bin.groupby([\"Age Bin\"])\n",
    "\n",
    "#Count the purchases by Bin\n",
    "purch_by_bin = purch_data_grouped_by_age_bin[\"Purchase ID\"].count()\n",
    "\n",
    "# #Calc the average purchase price by Bin\n",
    "avg_purch_price_by_age_bin = purch_data_grouped_by_age_bin[\"Price\"].sum()/purch_data_grouped_by_age_bin[\"Purchase ID\"].count()\n",
    "\n",
    "# #Calc the total value of purchases by Bin\n",
    "tot_purch_value_by_bin = purch_data_grouped_by_age_bin[\"Price\"].sum()\n",
    "tot_purch_value_by_bin\n",
    "\n",
    "# #Calc the average purchase per person by Bin\n",
    "avg_purch_price_by_bin_per_person = purch_data_grouped_by_age_bin[\"Price\"].sum()/purch_data_grouped_by_age_bin[\"SN\"].nunique()\n",
    "\n",
    "# Create a summary data frame to hold the results\n",
    "bin_purch_summary_df = pd.DataFrame(list(zip(labels, purch_by_bin, avg_purch_price_by_age_bin, tot_purch_value_by_bin, avg_purch_price_by_bin_per_person)), columns =['Age Ranges','Purchase Count',\t'Average Purchase Price',\t'Total Purchase Value',\t'Avg Total Purchase per Person']) \n",
    "\n",
    "bin_purch_summary_df.set_index('Age Ranges', inplace=True)\n",
    "bin_purch_summary_df.style.format({\"Average Purchase Price\": \"${:,.2f}\", \"Total Purchase Value\": \"${:,.2f}\", \"Avg Total Purchase per Person\": \"${:,.2f}\"})"
   ]
  },
  {
   "cell_type": "markdown",
   "metadata": {},
   "source": [
    "Top Spenders Analysis\n",
    "\n",
    "Identify the top 5 spender by amount and their:\n",
    "\n",
    "- Gamer ID name\n",
    "- The number of purchases they made\n",
    "- The average price of their purchases\n",
    "- The total amount of their purchases"
   ],
   "execution_count": null,
   "outputs": []
  },
  {
   "cell_type": "code",
   "execution_count": 61,
   "metadata": {},
   "outputs": [
    {
     "output_type": "execute_result",
     "data": {
      "text/plain": "<pandas.io.formats.style.Styler at 0x118adad68>",
      "text/html": "<style  type=\"text/css\" >\n</style><table id=\"T_aea01524_7138_11ea_8852_acde48001122\" ><thead>    <tr>        <th class=\"blank level0\" ></th>        <th class=\"col_heading level0 col0\" >Purchase Count</th>        <th class=\"col_heading level0 col1\" >Average Purchase Price</th>        <th class=\"col_heading level0 col2\" >Total Purchase Value</th>    </tr>    <tr>        <th class=\"index_name level0\" >SN</th>        <th class=\"blank\" ></th>        <th class=\"blank\" ></th>        <th class=\"blank\" ></th>    </tr></thead><tbody>\n                <tr>\n                        <th id=\"T_aea01524_7138_11ea_8852_acde48001122level0_row0\" class=\"row_heading level0 row0\" >Lisosia93</th>\n                        <td id=\"T_aea01524_7138_11ea_8852_acde48001122row0_col0\" class=\"data row0 col0\" >5</td>\n                        <td id=\"T_aea01524_7138_11ea_8852_acde48001122row0_col1\" class=\"data row0 col1\" >$3.79</td>\n                        <td id=\"T_aea01524_7138_11ea_8852_acde48001122row0_col2\" class=\"data row0 col2\" >$18.96</td>\n            </tr>\n            <tr>\n                        <th id=\"T_aea01524_7138_11ea_8852_acde48001122level0_row1\" class=\"row_heading level0 row1\" >Idastidru52</th>\n                        <td id=\"T_aea01524_7138_11ea_8852_acde48001122row1_col0\" class=\"data row1 col0\" >4</td>\n                        <td id=\"T_aea01524_7138_11ea_8852_acde48001122row1_col1\" class=\"data row1 col1\" >$3.86</td>\n                        <td id=\"T_aea01524_7138_11ea_8852_acde48001122row1_col2\" class=\"data row1 col2\" >$15.45</td>\n            </tr>\n            <tr>\n                        <th id=\"T_aea01524_7138_11ea_8852_acde48001122level0_row2\" class=\"row_heading level0 row2\" >Chamjask73</th>\n                        <td id=\"T_aea01524_7138_11ea_8852_acde48001122row2_col0\" class=\"data row2 col0\" >3</td>\n                        <td id=\"T_aea01524_7138_11ea_8852_acde48001122row2_col1\" class=\"data row2 col1\" >$4.61</td>\n                        <td id=\"T_aea01524_7138_11ea_8852_acde48001122row2_col2\" class=\"data row2 col2\" >$13.83</td>\n            </tr>\n            <tr>\n                        <th id=\"T_aea01524_7138_11ea_8852_acde48001122level0_row3\" class=\"row_heading level0 row3\" >Iral74</th>\n                        <td id=\"T_aea01524_7138_11ea_8852_acde48001122row3_col0\" class=\"data row3 col0\" >4</td>\n                        <td id=\"T_aea01524_7138_11ea_8852_acde48001122row3_col1\" class=\"data row3 col1\" >$3.40</td>\n                        <td id=\"T_aea01524_7138_11ea_8852_acde48001122row3_col2\" class=\"data row3 col2\" >$13.62</td>\n            </tr>\n            <tr>\n                        <th id=\"T_aea01524_7138_11ea_8852_acde48001122level0_row4\" class=\"row_heading level0 row4\" >Iskadarya95</th>\n                        <td id=\"T_aea01524_7138_11ea_8852_acde48001122row4_col0\" class=\"data row4 col0\" >3</td>\n                        <td id=\"T_aea01524_7138_11ea_8852_acde48001122row4_col1\" class=\"data row4 col1\" >$4.37</td>\n                        <td id=\"T_aea01524_7138_11ea_8852_acde48001122row4_col2\" class=\"data row4 col2\" >$13.10</td>\n            </tr>\n    </tbody></table>"
     },
     "metadata": {},
     "execution_count": 61
    }
   ],
   "source": [
    "purch_data_by_gamer = purchase_data.groupby([\"SN\"])\n",
    "\n",
    "#Count the purchases by Gamer\n",
    "purch_by_gamer = purch_data_by_gamer[\"Purchase ID\"].count()\n",
    "\n",
    "#Calc the average purchase price by Gamer\n",
    "avg_purch_price_by_gamer = purch_data_by_gamer[\"Price\"].sum()/purch_data_by_gamer[\"Purchase ID\"].count()\n",
    "\n",
    "#Calc the total value of purchases by Gamer\n",
    "tot_purch_value_by_gamer = purch_data_by_gamer[\"Price\"].sum()\n",
    "\n",
    "#Extrat the user ID's\n",
    "gamer_SN_df = pd.DataFrame(purch_data_by_gamer.first())\n",
    "gamer_SN = gamer_SN_df.index\n",
    "\n",
    "\n",
    "# Create a summary data frame to hold the results\n",
    "gamer_purch_summary_df = pd.DataFrame(list(zip(purch_by_gamer, avg_purch_price_by_gamer, tot_purch_value_by_gamer)), index = gamer_SN, columns =['Purchase Count',\t'Average Purchase Price',\t'Total Purchase Value'])\n",
    "\n",
    "gamer_purch_summary_df.sort_values(by=['Total Purchase Value'], inplace=True, ascending=False)\n",
    "\n",
    "gamer_top_spenders = gamer_purch_summary_df.head(5)\n",
    "gamer_top_spenders.style.format({\"Average Purchase Price\": \"${:,.2f}\", \"Total Purchase Value\": \"${:,.2f}\"})"
   ]
  },
  {
   "cell_type": "markdown",
   "metadata": {},
   "source": [
    "Most Popular Items Analysis\n",
    "\n",
    "Identify the most popular items by number of purchases and their:\n",
    "- Item ID\n",
    "- Item Name\n",
    "- Number of times the item was purchased\n",
    "- Average price paid for the item\n",
    "- Total amount of purchases for the item"
   ],
   "execution_count": null,
   "outputs": []
  },
  {
   "cell_type": "code",
   "execution_count": 62,
   "metadata": {},
   "outputs": [
    {
     "output_type": "execute_result",
     "data": {
      "text/plain": "<pandas.io.formats.style.Styler at 0x118350b00>",
      "text/html": "<style  type=\"text/css\" >\n</style><table id=\"T_aea43d52_7138_11ea_bdf4_acde48001122\" ><thead>    <tr>        <th class=\"blank level0\" ></th>        <th class=\"col_heading level0 col0\" >Item Name</th>        <th class=\"col_heading level0 col1\" >Purchase Count</th>        <th class=\"col_heading level0 col2\" >Item Price</th>        <th class=\"col_heading level0 col3\" >Total Purchase Value</th>    </tr>    <tr>        <th class=\"index_name level0\" >Item ID</th>        <th class=\"blank\" ></th>        <th class=\"blank\" ></th>        <th class=\"blank\" ></th>        <th class=\"blank\" ></th>    </tr></thead><tbody>\n                <tr>\n                        <th id=\"T_aea43d52_7138_11ea_bdf4_acde48001122level0_row0\" class=\"row_heading level0 row0\" >92</th>\n                        <td id=\"T_aea43d52_7138_11ea_bdf4_acde48001122row0_col0\" class=\"data row0 col0\" >Final Critic</td>\n                        <td id=\"T_aea43d52_7138_11ea_bdf4_acde48001122row0_col1\" class=\"data row0 col1\" >13</td>\n                        <td id=\"T_aea43d52_7138_11ea_bdf4_acde48001122row0_col2\" class=\"data row0 col2\" >$4.61</td>\n                        <td id=\"T_aea43d52_7138_11ea_bdf4_acde48001122row0_col3\" class=\"data row0 col3\" >$59.99</td>\n            </tr>\n            <tr>\n                        <th id=\"T_aea43d52_7138_11ea_bdf4_acde48001122level0_row1\" class=\"row_heading level0 row1\" >178</th>\n                        <td id=\"T_aea43d52_7138_11ea_bdf4_acde48001122row1_col0\" class=\"data row1 col0\" >Oathbreaker, Last Hope of the Breaking Storm</td>\n                        <td id=\"T_aea43d52_7138_11ea_bdf4_acde48001122row1_col1\" class=\"data row1 col1\" >12</td>\n                        <td id=\"T_aea43d52_7138_11ea_bdf4_acde48001122row1_col2\" class=\"data row1 col2\" >$4.23</td>\n                        <td id=\"T_aea43d52_7138_11ea_bdf4_acde48001122row1_col3\" class=\"data row1 col3\" >$50.76</td>\n            </tr>\n            <tr>\n                        <th id=\"T_aea43d52_7138_11ea_bdf4_acde48001122level0_row2\" class=\"row_heading level0 row2\" >145</th>\n                        <td id=\"T_aea43d52_7138_11ea_bdf4_acde48001122row2_col0\" class=\"data row2 col0\" >Fiery Glass Crusader</td>\n                        <td id=\"T_aea43d52_7138_11ea_bdf4_acde48001122row2_col1\" class=\"data row2 col1\" >9</td>\n                        <td id=\"T_aea43d52_7138_11ea_bdf4_acde48001122row2_col2\" class=\"data row2 col2\" >$4.58</td>\n                        <td id=\"T_aea43d52_7138_11ea_bdf4_acde48001122row2_col3\" class=\"data row2 col3\" >$41.22</td>\n            </tr>\n            <tr>\n                        <th id=\"T_aea43d52_7138_11ea_bdf4_acde48001122level0_row3\" class=\"row_heading level0 row3\" >132</th>\n                        <td id=\"T_aea43d52_7138_11ea_bdf4_acde48001122row3_col0\" class=\"data row3 col0\" >Persuasion</td>\n                        <td id=\"T_aea43d52_7138_11ea_bdf4_acde48001122row3_col1\" class=\"data row3 col1\" >9</td>\n                        <td id=\"T_aea43d52_7138_11ea_bdf4_acde48001122row3_col2\" class=\"data row3 col2\" >$3.22</td>\n                        <td id=\"T_aea43d52_7138_11ea_bdf4_acde48001122row3_col3\" class=\"data row3 col3\" >$28.99</td>\n            </tr>\n            <tr>\n                        <th id=\"T_aea43d52_7138_11ea_bdf4_acde48001122level0_row4\" class=\"row_heading level0 row4\" >108</th>\n                        <td id=\"T_aea43d52_7138_11ea_bdf4_acde48001122row4_col0\" class=\"data row4 col0\" >Extraction, Quickblade Of Trembling Hands</td>\n                        <td id=\"T_aea43d52_7138_11ea_bdf4_acde48001122row4_col1\" class=\"data row4 col1\" >9</td>\n                        <td id=\"T_aea43d52_7138_11ea_bdf4_acde48001122row4_col2\" class=\"data row4 col2\" >$3.53</td>\n                        <td id=\"T_aea43d52_7138_11ea_bdf4_acde48001122row4_col3\" class=\"data row4 col3\" >$31.77</td>\n            </tr>\n    </tbody></table>"
     },
     "metadata": {},
     "execution_count": 62
    }
   ],
   "source": [
    "#Create df grouped by Item ID\n",
    "item_summary_df = purchase_data[[\"Item ID\", \"Item Name\", \"Price\"]]\n",
    "group_by_item = item_summary_df.groupby([\"Item ID\"])\n",
    "\n",
    "#Extrat the item ID's\n",
    "item_ID_df = pd.DataFrame(group_by_item.first())\n",
    "\n",
    "\n",
    "#Item purchase count\n",
    "purch_by_item = group_by_item[\"Item ID\"].count()\n",
    "item_ID_df[\"Purchase Count\"]=purch_by_item\n",
    " \n",
    "#Item price\n",
    "item_price = group_by_item[\"Price\"].mean()\n",
    "item_ID_df[\"Price\"]=item_price\n",
    "\n",
    "#Item total purchase value\n",
    "tot_purch_value_item = group_by_item[\"Price\"].sum()\n",
    "item_ID_df[\"Total Purchase Value\"]=tot_purch_value_item\n",
    "\n",
    "item_ID_df=item_ID_df[['Item Name', 'Purchase Count', 'Price', 'Total Purchase Value']]\n",
    "item_ID_df.rename(columns = {'Price':'Item Price'}, inplace=True)\n",
    "\n",
    "item_ID_df\n",
    "\n",
    "item_ID_df.sort_values(by=['Purchase Count'], inplace=True, ascending=False)\n",
    "\n",
    "most_pop_items = item_ID_df.head(5)\n",
    "most_pop_items.style.format({\"Item Price\": \"${:,.2f}\", \"Total Purchase Value\": \"${:,.2f}\"})"
   ]
  },
  {
   "cell_type": "markdown",
   "metadata": {},
   "source": [
    "Most Profitable Item Analysis\n",
    "\n",
    "Identify the top 5 most popular items by total amount spent on that item, including:\n",
    "- Item ID\n",
    "- Item Name\n",
    "- Number of time the item was purchased\n",
    "- Total amount spend on the item"
   ],
   "execution_count": null,
   "outputs": []
  },
  {
   "cell_type": "code",
   "execution_count": 63,
   "metadata": {},
   "outputs": [
    {
     "output_type": "execute_result",
     "data": {
      "text/plain": "<pandas.io.formats.style.Styler at 0x118625320>",
      "text/html": "<style  type=\"text/css\" >\n</style><table id=\"T_aea6c074_7138_11ea_bc54_acde48001122\" ><thead>    <tr>        <th class=\"blank level0\" ></th>        <th class=\"col_heading level0 col0\" >Item Name</th>        <th class=\"col_heading level0 col1\" >Purchase Count</th>        <th class=\"col_heading level0 col2\" >Item Price</th>        <th class=\"col_heading level0 col3\" >Total Purchase Value</th>    </tr>    <tr>        <th class=\"index_name level0\" >Item ID</th>        <th class=\"blank\" ></th>        <th class=\"blank\" ></th>        <th class=\"blank\" ></th>        <th class=\"blank\" ></th>    </tr></thead><tbody>\n                <tr>\n                        <th id=\"T_aea6c074_7138_11ea_bc54_acde48001122level0_row0\" class=\"row_heading level0 row0\" >92</th>\n                        <td id=\"T_aea6c074_7138_11ea_bc54_acde48001122row0_col0\" class=\"data row0 col0\" >Final Critic</td>\n                        <td id=\"T_aea6c074_7138_11ea_bc54_acde48001122row0_col1\" class=\"data row0 col1\" >13</td>\n                        <td id=\"T_aea6c074_7138_11ea_bc54_acde48001122row0_col2\" class=\"data row0 col2\" >$4.61</td>\n                        <td id=\"T_aea6c074_7138_11ea_bc54_acde48001122row0_col3\" class=\"data row0 col3\" >$59.99</td>\n            </tr>\n            <tr>\n                        <th id=\"T_aea6c074_7138_11ea_bc54_acde48001122level0_row1\" class=\"row_heading level0 row1\" >178</th>\n                        <td id=\"T_aea6c074_7138_11ea_bc54_acde48001122row1_col0\" class=\"data row1 col0\" >Oathbreaker, Last Hope of the Breaking Storm</td>\n                        <td id=\"T_aea6c074_7138_11ea_bc54_acde48001122row1_col1\" class=\"data row1 col1\" >12</td>\n                        <td id=\"T_aea6c074_7138_11ea_bc54_acde48001122row1_col2\" class=\"data row1 col2\" >$4.23</td>\n                        <td id=\"T_aea6c074_7138_11ea_bc54_acde48001122row1_col3\" class=\"data row1 col3\" >$50.76</td>\n            </tr>\n            <tr>\n                        <th id=\"T_aea6c074_7138_11ea_bc54_acde48001122level0_row2\" class=\"row_heading level0 row2\" >82</th>\n                        <td id=\"T_aea6c074_7138_11ea_bc54_acde48001122row2_col0\" class=\"data row2 col0\" >Nirvana</td>\n                        <td id=\"T_aea6c074_7138_11ea_bc54_acde48001122row2_col1\" class=\"data row2 col1\" >9</td>\n                        <td id=\"T_aea6c074_7138_11ea_bc54_acde48001122row2_col2\" class=\"data row2 col2\" >$4.90</td>\n                        <td id=\"T_aea6c074_7138_11ea_bc54_acde48001122row2_col3\" class=\"data row2 col3\" >$44.10</td>\n            </tr>\n            <tr>\n                        <th id=\"T_aea6c074_7138_11ea_bc54_acde48001122level0_row3\" class=\"row_heading level0 row3\" >145</th>\n                        <td id=\"T_aea6c074_7138_11ea_bc54_acde48001122row3_col0\" class=\"data row3 col0\" >Fiery Glass Crusader</td>\n                        <td id=\"T_aea6c074_7138_11ea_bc54_acde48001122row3_col1\" class=\"data row3 col1\" >9</td>\n                        <td id=\"T_aea6c074_7138_11ea_bc54_acde48001122row3_col2\" class=\"data row3 col2\" >$4.58</td>\n                        <td id=\"T_aea6c074_7138_11ea_bc54_acde48001122row3_col3\" class=\"data row3 col3\" >$41.22</td>\n            </tr>\n            <tr>\n                        <th id=\"T_aea6c074_7138_11ea_bc54_acde48001122level0_row4\" class=\"row_heading level0 row4\" >103</th>\n                        <td id=\"T_aea6c074_7138_11ea_bc54_acde48001122row4_col0\" class=\"data row4 col0\" >Singed Scalpel</td>\n                        <td id=\"T_aea6c074_7138_11ea_bc54_acde48001122row4_col1\" class=\"data row4 col1\" >8</td>\n                        <td id=\"T_aea6c074_7138_11ea_bc54_acde48001122row4_col2\" class=\"data row4 col2\" >$4.35</td>\n                        <td id=\"T_aea6c074_7138_11ea_bc54_acde48001122row4_col3\" class=\"data row4 col3\" >$34.80</td>\n            </tr>\n    </tbody></table>"
     },
     "metadata": {},
     "execution_count": 63
    }
   ],
   "source": [
    "item_ID_df.sort_values(by=['Total Purchase Value'], inplace=True, ascending=False)\n",
    "most_profit_items = item_ID_df.head(5)\n",
    "most_profit_items.style.format({\"Item Price\": \"${:,.2f}\", \"Total Purchase Value\": \"${:,.2f}\"})"
   ]
  },
  {
   "cell_type": "code",
   "execution_count": null,
   "metadata": {},
   "outputs": [],
   "source": []
  }
 ],
 "metadata": {
  "kernelspec": {
   "display_name": "Python 3.6.10 64-bit ('PythonData': conda)",
   "language": "python",
   "name": "python361064bitpythondatacondaab47c43dfe824d4eb95e9e8f15b48370"
  },
  "language_info": {
   "codemirror_mode": {
    "name": "ipython",
    "version": 3
   },
   "file_extension": ".py",
   "mimetype": "text/x-python",
   "name": "python",
   "nbconvert_exporter": "python",
   "pygments_lexer": "ipython3",
   "version": "3.6.10-final"
  }
 },
 "nbformat": 4,
 "nbformat_minor": 4
}